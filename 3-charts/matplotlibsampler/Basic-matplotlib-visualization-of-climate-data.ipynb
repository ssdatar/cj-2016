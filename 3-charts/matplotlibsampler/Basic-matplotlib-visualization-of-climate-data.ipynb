{
 "cells": [
  {
   "cell_type": "code",
   "execution_count": 23,
   "metadata": {
    "collapsed": true
   },
   "outputs": [],
   "source": [
    "# ignore this setup line\n",
    "%matplotlib inline"
   ]
  },
  {
   "cell_type": "markdown",
   "metadata": {},
   "source": [
    "# Basic matplotlib visualization of climate data\n",
    "\n",
    "\n",
    "Let's try to recreate the chart in this Economist infographic-editorial, [The hottest year on record: 2015](http://www.economist.com/blogs/graphicdetail/2016/01/climate-change).\n",
    "\n",
    "\n",
    "If you've cloned this repo ([https://github.com/datademofun/matplotlibsampler](https://github.com/datademofun/matplotlibsampler)), my copy of the data file is in [data/climate/nasa-gistemp-annual-mean.csv](data/climate/nasa-gistemp-annual-mean.csv). It comes from NASA -- and you can read the details of its collection in this notebook:\n",
    "\n",
    "[https://github.com/dannguyen/python-notebooks-data-wrangling/blob/master/Data-Extraction--NASA-Text.ipynb](https://github.com/dannguyen/python-notebooks-data-wrangling/blob/master/Data-Extraction--NASA-Text.ipynb)\n",
    "\n",
    "\n",
    "The data file contains average global temperature measurements since 1880. More specifically, the values in the `annual_mean` column represent the _difference_ of a particular year's global average temp _compared to the average global temp measured from 1951 to 1980_.\n",
    "\n",
    "In other words, a value of `-0.39` degrees for the year `1883` means that 1883's estimated global average was 0.39 celsius below the average global temp for the 1951-to-1980 period. \n",
    "\n",
    "The Economist's visual interpretation seems to show a warming trend:\n",
    "\n",
    "![economist image](http://cdn.static-economist.com/sites/default/files/imagecache/original-size/images/2016/01/blogs/graphic-detail/20160123_woc185_0.png)\n",
    "\n"
   ]
  },
  {
   "cell_type": "code",
   "execution_count": 24,
   "metadata": {
    "collapsed": false
   },
   "outputs": [],
   "source": [
    "from os.path import join\n",
    "import csv\n",
    "datafname = join('data', 'climate', 'nasa-gistemp-annual-mean.csv')\n",
    "with open(datafname, 'r') as rf:\n",
    "    datarows = list(csv.DictReader(rf))    "
   ]
  },
  {
   "cell_type": "markdown",
   "metadata": {},
   "source": [
    "Or, if you haven't cloned this repo, you can fetch the data via requests:\n",
    "\n",
    "```py\n",
    "import requests\n",
    "import csv\n",
    "url = 'https://raw.githubusercontent.com/datademofun/matplotlibsampler/master/data/climate/nasa-gistemp-annual-mean.csv'\n",
    "resp = requests.get(url)\n",
    "lines = resp.text.splitlines()\n",
    "datarows = list(csv.DictReader(lines))\n",
    "```"
   ]
  },
  {
   "cell_type": "markdown",
   "metadata": {},
   "source": [
    "If you are doing this in iPython and want to see the charts rendered interactively, remember to include this magic command:\n",
    "\n",
    "```py\n",
    "%matplotlib\n",
    "```\n",
    "\n",
    "And then, whether you're in ipython or doing a standalone script, import matplotlib:\n"
   ]
  },
  {
   "cell_type": "code",
   "execution_count": 25,
   "metadata": {
    "collapsed": true
   },
   "outputs": [],
   "source": [
    "import matplotlib.pyplot as plt"
   ]
  },
  {
   "cell_type": "code",
   "execution_count": 26,
   "metadata": {
    "collapsed": false
   },
   "outputs": [
    {
     "name": "stdout",
     "output_type": "stream",
     "text": [
      "{'annual_mean': '-0.49', 'year': '1880'}\n"
     ]
    }
   ],
   "source": [
    "# take a look at the data\n",
    "print(datarows[0])"
   ]
  },
  {
   "cell_type": "markdown",
   "metadata": {},
   "source": [
    "Let's make a quick bar chart. We want `year` for the x-values and `annual_mean` for the y-values. Basically, we need to create two new lists from our `datarows` list-of-dicts:"
   ]
  },
  {
   "cell_type": "code",
   "execution_count": 27,
   "metadata": {
    "collapsed": true
   },
   "outputs": [],
   "source": [
    "xvals = []\n",
    "yvals = []\n",
    "\n",
    "for d in datarows:\n",
    "    xvals.append(d['year'])\n",
    "    yvals.append(d['annual_mean'])\n"
   ]
  },
  {
   "cell_type": "markdown",
   "metadata": {},
   "source": [
    "## Get used to list comprehensions\n",
    "\n",
    "From here on out, I'm just going to assume you know how to do a list comprehension, which are equivalent to the for-loop construct above, but more elegant (if hard to understand at first). If you don't quite get it, it's just something that takes practice.\n",
    "\n",
    "Here's a nice guide: [Python List Comprehensions: Explained Visually](http://treyhunner.com/2015/12/python-list-comprehensions-now-in-color/)\n",
    "\n",
    "And here's the previous snippet in list-comprehension form:"
   ]
  },
  {
   "cell_type": "code",
   "execution_count": 28,
   "metadata": {
    "collapsed": true
   },
   "outputs": [],
   "source": [
    "xvals = [d['year'] for d in datarows]\n",
    "yvals = [d['annual_mean'] for d in datarows]"
   ]
  },
  {
   "cell_type": "markdown",
   "metadata": {
    "collapsed": true
   },
   "source": [
    "OK, let's make our first chart:\n",
    "\n",
    "```py\n",
    "fig, ax = plt.subplots()\n",
    "ax.bar(xvals, yvals)\n",
    "```\n",
    "\n",
    "Ooops, it's going to result in an error:\n",
    "\n",
    "```\n",
    "/Users/dtown/.pyenv/versions/anaconda3-2.5.0/lib/python3.5/site-packages/matplotlib/axes/_axes.py in bar(self, left, height, width, bottom, **kwargs)\n",
    "   2116         args = zip(left, bottom, width, height, color, edgecolor, linewidth)\n",
    "   2117         for l, b, w, h, c, e, lw in args:\n",
    "-> 2118             if h < 0:\n",
    "   2119                 b += h\n",
    "   2120                 h = abs(h)\n",
    "\n",
    "TypeError: unorderable types: str() < int()\n",
    "```\n",
    "\n",
    "Basically, it doesn't like how `xvals` and `yvals` are __not numbers__ -- remember that deserializing CSV files just imports a bunch of string text values.\n",
    "\n",
    "So let's typecast them in our list comprehensions:"
   ]
  },
  {
   "cell_type": "code",
   "execution_count": 29,
   "metadata": {
    "collapsed": false
   },
   "outputs": [],
   "source": [
    "years = [int(d['year']) for d in datarows]\n",
    "means = [float(d['annual_mean']) for d in datarows]\n"
   ]
  },
  {
   "cell_type": "markdown",
   "metadata": {},
   "source": [
    "And now we should be able to chart:"
   ]
  },
  {
   "cell_type": "code",
   "execution_count": 30,
   "metadata": {
    "collapsed": false
   },
   "outputs": [
    {
     "data": {
      "text/plain": [
       "<Container object of 136 artists>"
      ]
     },
     "execution_count": 30,
     "metadata": {},
     "output_type": "execute_result"
    },
    {
     "data": {
      "image/png": "[encoded data removed]",
      "text/plain": [
       "<matplotlib.figure.Figure at 0x106938e80>"
      ]
     },
     "metadata": {},
     "output_type": "display_data"
    }
   ],
   "source": [
    "fig, ax = plt.subplots()\n",
    "ax.bar(years, means)"
   ]
  },
  {
   "cell_type": "markdown",
   "metadata": {},
   "source": [
    "# Creating a conditionally-colored chart\n",
    "\n",
    "OK, it was easy enough to chart the data. But how do we create the effect of the [Economist's chart](http://www.economist.com/blogs/graphicdetail/2016/01/climate-change), which helpfully colored hot years in orange and cold years in blue?\n",
    "\n",
    "The concept is pretty simple: for entries in `datarows` in which the `annual_mean` value is _positive_, collect the year/mean-temp pairs in a list named `hots`. Do the same for sub-zero values in a list name `colds`.\n",
    "\n",
    "However, this is just more than a bit tedious thanks to how reading from CSV files doesn't typecast the values (and our work above did not actually mutate the `datarows` object). So here's one approach to creating `hots` and `colds`:"
   ]
  },
  {
   "cell_type": "code",
   "execution_count": 31,
   "metadata": {
    "collapsed": true
   },
   "outputs": [],
   "source": [
    "colds = []\n",
    "hots = []\n",
    "for d in datarows:\n",
    "    yr = int(d['year'])\n",
    "    mean = float(d['annual_mean'])\n",
    "    if mean < 0:\n",
    "        colds.append((yr, mean))\n",
    "    else:\n",
    "        hots.append((yr, mean))\n"
   ]
  },
  {
   "cell_type": "markdown",
   "metadata": {},
   "source": [
    "Tedious, right? Keep the tedium of that process in mind because that's why we'll soon be learning [pandas](http://pandas.pydata.org/).\n",
    "\n",
    "For now, we can create the red/blue - hot/cold graph...see if your list-comprehenshion-foo is good enough to understand what's happening below:"
   ]
  },
  {
   "cell_type": "code",
   "execution_count": 32,
   "metadata": {
    "collapsed": false
   },
   "outputs": [
    {
     "data": {
      "text/plain": [
       "<Container object of 57 artists>"
      ]
     },
     "execution_count": 32,
     "metadata": {},
     "output_type": "execute_result"
    },
    {
     "data": {
      "image/png": "[encoded data removed]",
      "text/plain": [
       "<matplotlib.figure.Figure at 0x113e1fe10>"
      ]
     },
     "metadata": {},
     "output_type": "display_data"
    }
   ],
   "source": [
    "fig, ax = plt.subplots()\n",
    "ax.bar([x[0] for x in colds], [x[1] for x in colds], color='blue')                \n",
    "ax.bar([x[0] for x in hots], [x[1] for x in hots], color='orange')                                "
   ]
  },
  {
   "cell_type": "code",
   "execution_count": null,
   "metadata": {
    "collapsed": true
   },
   "outputs": [],
   "source": []
  }
 ],
 "metadata": {
  "kernelspec": {
   "display_name": "Python 3",
   "language": "python",
   "name": "python3"
  },
  "language_info": {
   "codemirror_mode": {
    "name": "ipython",
    "version": 3
   },
   "file_extension": ".py",
   "mimetype": "text/x-python",
   "name": "python",
   "nbconvert_exporter": "python",
   "pygments_lexer": "ipython3",
   "version": "3.5.1"
  }
 },
 "nbformat": 4,
 "nbformat_minor": 0
}
