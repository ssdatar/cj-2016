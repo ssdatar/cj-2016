{
 "cells": [
  {
   "cell_type": "code",
   "execution_count": 11,
   "metadata": {
    "collapsed": false
   },
   "outputs": [],
   "source": [
    "%matplotlib inline\n",
    "# ignore this \"magic\" command -- it's only necessary to setup this notebook... "
   ]
  },
  {
   "cell_type": "markdown",
   "metadata": {},
   "source": [
    "# Introduction to the basics of matplotlib visualizations\n",
    "\n",
    "Further reading: \n",
    "\n",
    "http://matplotlib.org/users/pyplot_tutorial.html\n",
    "\n",
    "http://www.labri.fr/perso/nrougier/teaching/matplotlib/matplotlib.html"
   ]
  },
  {
   "cell_type": "markdown",
   "metadata": {},
   "source": [
    "# Importing Matplotlib\n",
    "\n",
    "The popular convention is to import the `matplotlib.pyplot` module and alias it to `plt` for easier typing:\n"
   ]
  },
  {
   "cell_type": "code",
   "execution_count": 12,
   "metadata": {
    "collapsed": true
   },
   "outputs": [],
   "source": [
    "import matplotlib.pyplot as plt"
   ]
  },
  {
   "cell_type": "markdown",
   "metadata": {},
   "source": [
    "# Interactively plotting\n",
    "\n",
    "Note: the following instructions only apply if you are trying things out in ipython -- which you _should_ be doing when trying out matplotlib.\n",
    "\n",
    "When testing things out in iPython, if you want to see the chart images pop-up as you execute the charting commands, begin your iPython session by [running the `%matplotlib` magic command](https://ipython.org/ipython-doc/3/interactive/magics.html#magic-matplotlib) (however, _don't_ include it in any standalone Python scripts):\n",
    "\n",
    "\n",
    "```py\n",
    "%matplotlib\n",
    "import matplotlib.pyplot as plt\n",
    "```\n",
    "\n",
    "### Getting unstuck out of a stuck iPython prompt\n",
    "\n",
    "In current versions of matplotlib, iPython, OSX, you may run into an error where the prompt just freezes. [This is a known bug](https://github.com/ipython/ipython/issues/9128). Just hit Ctrl-C a couple of times and then Enter to break out of whatever command you were stuck in (you'll have to retype the command).\n",
    "\n",
    "\n",
    "\n",
    "\n"
   ]
  },
  {
   "cell_type": "markdown",
   "metadata": {},
   "source": [
    "## The simplest plot\n",
    "\n",
    "The following snippet is all you need to get a chart going in matplotlib. We actually won't be using this convention going forward, but it's worth seeing the minimal amount of code needed to make a graph:"
   ]
  },
  {
   "cell_type": "code",
   "execution_count": 13,
   "metadata": {
    "collapsed": false
   },
   "outputs": [
    {
     "data": {
      "text/plain": [
       "<Container object of 4 artists>"
      ]
     },
     "execution_count": 13,
     "metadata": {},
     "output_type": "execute_result"
    },
    {
     "data": {
      "image/png": "[encoded data removed]",
      "text/plain": [
       "<matplotlib.figure.Figure at 0x10f1c3cc0>"
      ]
     },
     "metadata": {},
     "output_type": "display_data"
    }
   ],
   "source": [
    "xvals = [0, 1, 2, 3]\n",
    "yvals = [20, 10, 50, -15]\n",
    "plt.bar(xvals, yvals)"
   ]
  },
  {
   "cell_type": "markdown",
   "metadata": {},
   "source": [
    "## Saving the simplest plot to disk\n",
    "\n",
    "To save to file, use the `savefig()` method:\n",
    "\n",
    "```py\n",
    "plt.savefig('hello.png')\n",
    "```\n",
    "\n",
    "\n",
    "### Removing the active chart (while interactively plotting)\n",
    "\n",
    "If you are doing these commands in iPython, then a chart window will have popped up with the rendered-chart image as as soon as you executed the `plt.bar()` method. To clear the space, call the `plt.close()` method:\n",
    "\n",
    "```py\n",
    "plt.close()\n",
    "```\n",
    "\n",
    "\n"
   ]
  },
  {
   "cell_type": "markdown",
   "metadata": {},
   "source": [
    "# Making \"subplots\" and using `fig` and `ax`\n",
    "\n",
    "While the invocation of methods on the global `plt` object will produce charts quick and easy, we'll be following this general convention (note that `plot()` is a method for drawing line charts):"
   ]
  },
  {
   "cell_type": "code",
   "execution_count": 14,
   "metadata": {
    "collapsed": false
   },
   "outputs": [
    {
     "data": {
      "text/plain": [
       "[<matplotlib.lines.Line2D at 0x10f4de6a0>]"
      ]
     },
     "execution_count": 14,
     "metadata": {},
     "output_type": "execute_result"
    },
    {
     "data": {
      "image/png": "[encoded data removed]",
      "text/plain": [
       "<matplotlib.figure.Figure at 0x10f4dee48>"
      ]
     },
     "metadata": {},
     "output_type": "display_data"
    }
   ],
   "source": [
    "fig, ax = plt.subplots()\n",
    "ax.plot([1,2,3], [40, 20, 33])"
   ]
  },
  {
   "cell_type": "markdown",
   "metadata": {},
   "source": [
    "What's `fig`? What's `ax`? And what exactly is `plt.subplots()` doing? It's not worth explaining in these simple examples, but it's a convention worth getting into the habit of as it allows us to be more flexible in the future. And it's not too hard to memorize.\n",
    "\n",
    "Here's another example, this time using the `scatter()` chart method:"
   ]
  },
  {
   "cell_type": "code",
   "execution_count": 19,
   "metadata": {
    "collapsed": false
   },
   "outputs": [
    {
     "data": {
      "text/plain": [
       "<matplotlib.collections.PathCollection at 0x10fd29fd0>"
      ]
     },
     "execution_count": 19,
     "metadata": {},
     "output_type": "execute_result"
    },
    {
     "data": {
      "image/png": "[encoded data removed]",
      "text/plain": [
       "<matplotlib.figure.Figure at 0x10fcdbf98>"
      ]
     },
     "metadata": {},
     "output_type": "display_data"
    }
   ],
   "source": [
    "fig, ax = plt.subplots()\n",
    "xvals = [42, 8, 33, 25, 39]\n",
    "yvals = [30, 22, 42, 9, 16]\n",
    "ax.scatter(xvals, yvals)\n"
   ]
  },
  {
   "cell_type": "markdown",
   "metadata": {},
   "source": [
    "## Saving figures\n",
    "\n",
    "Using the `fig, ax = plt.subplots()` convention, saving to disk is slightly different: call the `savefig()` method via the `fig` object:\n",
    "\n",
    "```py\n",
    "fig.savefig('helloagain.jpg')\n",
    "```\n"
   ]
  },
  {
   "cell_type": "markdown",
   "metadata": {},
   "source": [
    "# Charting multiple data series\n",
    "\n",
    "To chart more than one series of data on a single set of axes, simply invoke the charting methods of the given axes multiple times:"
   ]
  },
  {
   "cell_type": "code",
   "execution_count": 22,
   "metadata": {
    "collapsed": false
   },
   "outputs": [
    {
     "data": {
      "text/plain": [
       "[<matplotlib.lines.Line2D at 0x110149860>]"
      ]
     },
     "execution_count": 22,
     "metadata": {},
     "output_type": "execute_result"
    },
    {
     "data": {
      "image/png": "[encoded data removed]",
      "text/plain": [
       "<matplotlib.figure.Figure at 0x1100575c0>"
      ]
     },
     "metadata": {},
     "output_type": "display_data"
    }
   ],
   "source": [
    "fig, ax = plt.subplots()\n",
    "xvals = [0, 1, 2, 3, 4]\n",
    "y1 = [20, 8, 12, 24, 18]\n",
    "y2 = [9, 1, 8, 15, 26]\n",
    "ax.plot(xvals, y1)\n",
    "ax.plot(xvals, y2)"
   ]
  },
  {
   "cell_type": "markdown",
   "metadata": {},
   "source": [
    "Want multiple _types_ of charts on a single set of axes? Just call different types of charts on a single axes:"
   ]
  },
  {
   "cell_type": "code",
   "execution_count": 27,
   "metadata": {
    "collapsed": false
   },
   "outputs": [
    {
     "data": {
      "text/plain": [
       "[<matplotlib.lines.Line2D at 0x110b13a20>]"
      ]
     },
     "execution_count": 27,
     "metadata": {},
     "output_type": "execute_result"
    },
    {
     "data": {
      "image/png": "[encoded data removed]",
      "text/plain": [
       "<matplotlib.figure.Figure at 0x1107754a8>"
      ]
     },
     "metadata": {},
     "output_type": "display_data"
    }
   ],
   "source": [
    "fig, ax = plt.subplots()\n",
    "xvals = [0, 1, 2, 3, 4]\n",
    "y1 = [20, 8, 12, 24, 18]\n",
    "y2 = [9, 1, 8, 15, 26]\n",
    "ax.scatter(xvals, y1)\n",
    "ax.plot(xvals, y2)"
   ]
  },
  {
   "cell_type": "markdown",
   "metadata": {},
   "source": [
    "# The importance of data structure\n",
    "\n",
    "We've only scratched the surface of Matplotlib's visualization methods, but the main constraint we'll face is having correctly-structured data. \n",
    "\n",
    "For instance, matplotlib will throw an error if we attempt to chart x-values and y-values in which the relationship is not 1-to-1:\n",
    "\n",
    "\n",
    "```py\n",
    "xvals = [0, 1, 2]\n",
    "yvals = [42]\n",
    "ax.bar(xvals, yvals)\n",
    "\n",
    "# ValueError: incompatible sizes: argument 'height' must be length 3 or scalar\n",
    "```\n",
    "\n",
    "\n",
    "And certain data structures don't make sense for certain charts. Here's a valid pie chart:\n"
   ]
  },
  {
   "cell_type": "code",
   "execution_count": 39,
   "metadata": {
    "collapsed": false
   },
   "outputs": [
    {
     "data": {
      "text/plain": [
       "([<matplotlib.patches.Wedge at 0x110e16630>,\n",
       "  <matplotlib.patches.Wedge at 0x110f67c50>,\n",
       "  <matplotlib.patches.Wedge at 0x110f6d8d0>],\n",
       " [<matplotlib.text.Text at 0x110f677f0>,\n",
       "  <matplotlib.text.Text at 0x110f6d470>,\n",
       "  <matplotlib.text.Text at 0x110f6dfd0>])"
      ]
     },
     "execution_count": 39,
     "metadata": {},
     "output_type": "execute_result"
    },
    {
     "data": {
      "image/png": "[encoded data removed]",
      "text/plain": [
       "<matplotlib.figure.Figure at 0x110d81588>"
      ]
     },
     "metadata": {},
     "output_type": "display_data"
    }
   ],
   "source": [
    "yvals = [10, 20, 30]\n",
    "fig, ax = plt.subplots()\n",
    "ax.pie(yvals)"
   ]
  },
  {
   "cell_type": "markdown",
   "metadata": {},
   "source": [
    "However, the `pie()` call doesn't take in x- and y- parameters -- instead, the second argument is the `explode` value, easier shown than explained:"
   ]
  },
  {
   "cell_type": "code",
   "execution_count": 38,
   "metadata": {
    "collapsed": false
   },
   "outputs": [
    {
     "data": {
      "text/plain": [
       "([<matplotlib.patches.Wedge at 0x110d69da0>,\n",
       "  <matplotlib.patches.Wedge at 0x110e95588>,\n",
       "  <matplotlib.patches.Wedge at 0x110e9c208>],\n",
       " [<matplotlib.text.Text at 0x110e95128>,\n",
       "  <matplotlib.text.Text at 0x110e95d68>,\n",
       "  <matplotlib.text.Text at 0x110e9c9e8>])"
      ]
     },
     "execution_count": 38,
     "metadata": {},
     "output_type": "execute_result"
    },
    {
     "data": {
      "image/png": "[encoded data removed]",
      "text/plain": [
       "<matplotlib.figure.Figure at 0x110d7cfd0>"
      ]
     },
     "metadata": {},
     "output_type": "display_data"
    }
   ],
   "source": [
    "a = [10, 20, 30]\n",
    "b = [0.2, 2, 1]\n",
    "\n",
    "fig, ax = plt.subplots()\n",
    "ax.pie(a, b)\n"
   ]
  },
  {
   "cell_type": "markdown",
   "metadata": {},
   "source": [
    "# Stacked bar charts\n",
    "\n",
    "Matplotlib offers a variety of ways to arrange multiple-series data. It's worth looking at the logic behind how a stacked bar chart is created.\n",
    "\n",
    "First, start with a single bar chart:"
   ]
  },
  {
   "cell_type": "code",
   "execution_count": 41,
   "metadata": {
    "collapsed": false
   },
   "outputs": [
    {
     "data": {
      "text/plain": [
       "<Container object of 5 artists>"
      ]
     },
     "execution_count": 41,
     "metadata": {},
     "output_type": "execute_result"
    },
    {
     "data": {
      "image/png": "[encoded data removed]",
      "text/plain": [
       "<matplotlib.figure.Figure at 0x110f84128>"
      ]
     },
     "metadata": {},
     "output_type": "display_data"
    }
   ],
   "source": [
    "xvals = [0, 1, 2, 3, 4]\n",
    "y1 = [50, 40, 30, 20, 10]\n",
    "fig, ax = plt.subplots()\n",
    "ax.bar(xvals, y1)"
   ]
  },
  {
   "cell_type": "markdown",
   "metadata": {},
   "source": [
    "What is the structure of data of a stacked bar chart? It's when two data series share the same independent variable (i.e. x-axis). \n",
    "\n",
    "However, simply calling `bar()` twice creates overlapping bars...which is not quite what we want:\n",
    "\n",
    "(note that I've added the `color` argument to the second call to make the different charts stand out):\n"
   ]
  },
  {
   "cell_type": "code",
   "execution_count": 47,
   "metadata": {
    "collapsed": false
   },
   "outputs": [
    {
     "data": {
      "text/plain": [
       "<Container object of 5 artists>"
      ]
     },
     "execution_count": 47,
     "metadata": {},
     "output_type": "execute_result"
    },
    {
     "data": {
      "image/png": "[encoded data removed]",
      "text/plain": [
       "<matplotlib.figure.Figure at 0x118b41710>"
      ]
     },
     "metadata": {},
     "output_type": "display_data"
    }
   ],
   "source": [
    "xvals = [0, 1, 2, 3, 4]\n",
    "y1 = [50, 40, 30, 20, 10]\n",
    "y2 = [10, 18, 23, 7, 26]\n",
    "fig, ax = plt.subplots()\n",
    "ax.bar(xvals, y1)\n",
    "ax.bar(xvals, y2, color='orange')"
   ]
  },
  {
   "cell_type": "markdown",
   "metadata": {},
   "source": [
    "To get the grouped effect, we need to pass the `bottom` argument to the second call of `bar()`. What do we pass into that argument? The list of y-values that are in the _first_ call of `bar()`:"
   ]
  },
  {
   "cell_type": "code",
   "execution_count": 48,
   "metadata": {
    "collapsed": false
   },
   "outputs": [
    {
     "data": {
      "text/plain": [
       "<Container object of 5 artists>"
      ]
     },
     "execution_count": 48,
     "metadata": {},
     "output_type": "execute_result"
    },
    {
     "data": {
      "image/png": "[encoded data removed]",
      "text/plain": [
       "<matplotlib.figure.Figure at 0x118c8ea90>"
      ]
     },
     "metadata": {},
     "output_type": "display_data"
    }
   ],
   "source": [
    "xvals = [0, 1, 2, 3, 4]\n",
    "y1 = [50, 40, 30, 20, 10]\n",
    "y2 = [10, 18, 23, 7, 26]\n",
    "fig, ax = plt.subplots()\n",
    "ax.bar(xvals, y1)\n",
    "ax.bar(xvals, y2, color='orange', bottom=y1)"
   ]
  },
  {
   "cell_type": "markdown",
   "metadata": {},
   "source": [
    "In effect, we've told the matplotlib plotter that we want to start the `y2` values from where each corresponding `y1` value left off, i.e. stack `y2` on top of `y1`.\n",
    "\n",
    "\n",
    "What happens when the `y1` and `y2` values have _different_ x-values? Something weird...which is why you shouldn't be stacking non-aligning data series: "
   ]
  },
  {
   "cell_type": "code",
   "execution_count": 49,
   "metadata": {
    "collapsed": false
   },
   "outputs": [
    {
     "data": {
      "text/plain": [
       "<Container object of 5 artists>"
      ]
     },
     "execution_count": 49,
     "metadata": {},
     "output_type": "execute_result"
    },
    {
     "data": {
      "image/png": "[encoded data removed]",
      "text/plain": [
       "<matplotlib.figure.Figure at 0x1190291d0>"
      ]
     },
     "metadata": {},
     "output_type": "display_data"
    }
   ],
   "source": [
    "x1 = [0, 1, 2, 3, 4]\n",
    "y1 = [50, 40, 30, 20, 10]\n",
    "x2 = [ 10, 11, 12, 13, 14]\n",
    "y2 = [10, 18, 23, 7, 26]\n",
    "fig, ax = plt.subplots()\n",
    "ax.bar(x1, y1)\n",
    "ax.bar(x2, y2, color='orange', bottom=y1)"
   ]
  },
  {
   "cell_type": "markdown",
   "metadata": {},
   "source": [
    "# Plotting categorical data\n",
    "\n",
    "One more example to show how picky matplotlib is about data structure.\n",
    "\n",
    "Pretend we have two _things_, e.g. 'apples' and 'orranges', with two corresponding y-values, e.g. `42` and `25`, to represent `42 apples` and `25 oranges`. \n",
    "\n",
    "Unfortunately, we can't plot the __categories__ of `apples` and `oranges` along the x-axis so easily:\n",
    "\n",
    "\n",
    "```py\n",
    "xvals - ['apples', 'oranges']\n",
    "yvals = [42, 25]\n",
    "fig, ax = plt.subplots()\n",
    "ax.bar(xvals, yvals)\n",
    "```\n",
    "\n",
    "We get this arcane error:\n",
    "\n",
    "```\n",
    "---------------------------------------------------------------------------\n",
    "TypeError                                 Traceback (most recent call last)\n",
    "<ipython-input-51-368b1dcacfa1> in <module>()\n",
    "----> 1 xvals - ['apples', 'oranges']\n",
    "      2 yvals = [42, 25]\n",
    "      3 fig, ax = plt.subplots()\n",
    "      4 ax.bar(xvals, yvals)\n",
    "\n",
    "TypeError: unsupported operand type(s) for -: 'list' and 'list'\n",
    "```\n",
    "\n",
    "Basically, matplotlib won't deal with anything but numerical values -- integers, floats, or datetimes -- when plotting a chart. It just simply doesn't know where `apples` and `oranges` -- which we refer to as __categorical__ (as opposed to _continuous_) values -- should be positioned along the x-axis. \n",
    "\n",
    "So we have to hold matplotlib by the hand and tell it:\n",
    "\n",
    "1. For the y-values of `42` and `25`, plot them against the x-values of `0` and `1` -- for now.\n",
    "2. Then, label the x-axis with 0 and 1, using `ax.set_xticks()`\n",
    "3. OK, where the `0` and `1` x-axis labels currently exist, replace them with `apples` and `oranges`, respectively, using `ax.set_xticklabels()`\n",
    "\n",
    "\n",
    "\n",
    "Here's the code to do that:\n"
   ]
  },
  {
   "cell_type": "code",
   "execution_count": 53,
   "metadata": {
    "collapsed": false
   },
   "outputs": [
    {
     "data": {
      "text/plain": [
       "<Container object of 2 artists>"
      ]
     },
     "execution_count": 53,
     "metadata": {},
     "output_type": "execute_result"
    },
    {
     "data": {
      "image/png": "[encoded data removed]",
      "text/plain": [
       "<matplotlib.figure.Figure at 0x119051b38>"
      ]
     },
     "metadata": {},
     "output_type": "display_data"
    }
   ],
   "source": [
    "# Step 1\n",
    "\n",
    "xvals = [0, 1]\n",
    "yvals = [42, 25]\n",
    "\n",
    "fig, ax = plt.subplots()\n",
    "ax.bar(xvals, yvals)\n"
   ]
  },
  {
   "cell_type": "code",
   "execution_count": 56,
   "metadata": {
    "collapsed": false
   },
   "outputs": [
    {
     "data": {
      "text/plain": [
       "[<matplotlib.axis.XTick at 0x11984cd30>,\n",
       " <matplotlib.axis.XTick at 0x110f6df28>]"
      ]
     },
     "execution_count": 56,
     "metadata": {},
     "output_type": "execute_result"
    },
    {
     "data": {
      "image/png": "[encoded data removed]",
      "text/plain": [
       "<matplotlib.figure.Figure at 0x1195c4d68>"
      ]
     },
     "metadata": {},
     "output_type": "display_data"
    }
   ],
   "source": [
    "# Step 1 & 2\n",
    "\n",
    "xvals = [0, 1]\n",
    "yvals = [42, 25]\n",
    "\n",
    "fig, ax = plt.subplots()\n",
    "# note that I specify the `align` argument in the `bar()` call:\n",
    "ax.bar(xvals, yvals, align='center')\n",
    "ax.set_xticks(xvals)\n"
   ]
  },
  {
   "cell_type": "code",
   "execution_count": 57,
   "metadata": {
    "collapsed": false
   },
   "outputs": [
    {
     "data": {
      "text/plain": [
       "[<matplotlib.text.Text at 0x1186b4278>, <matplotlib.text.Text at 0x11992a828>]"
      ]
     },
     "execution_count": 57,
     "metadata": {},
     "output_type": "execute_result"
    },
    {
     "data": {
      "image/png": "[encoded data removed]",
      "text/plain": [
       "<matplotlib.figure.Figure at 0x1187311d0>"
      ]
     },
     "metadata": {},
     "output_type": "display_data"
    }
   ],
   "source": [
    "# Steps 1,2,3\n",
    "# Step 1 & 2\n",
    "\n",
    "xlabels = ['apples', 'oranges']\n",
    "xvals = [0, 1]\n",
    "yvals = [42, 25]\n",
    "\n",
    "fig, ax = plt.subplots()\n",
    "# note that I specify the `align` argument in the `bar()` call:\n",
    "ax.bar(xvals, yvals, align='center')\n",
    "ax.set_xticks(xvals)\n",
    "ax.set_xticklabels(xlabels)"
   ]
  },
  {
   "cell_type": "markdown",
   "metadata": {},
   "source": [
    "It'd be nice if matplotlib just \"knew\" how to deal with a set of human-readable labels for a simple bar chart. But just like most parts of Python programming, explicitness over ambiguity is required."
   ]
  },
  {
   "cell_type": "code",
   "execution_count": null,
   "metadata": {
    "collapsed": true
   },
   "outputs": [],
   "source": []
  }
 ],
 "metadata": {
  "kernelspec": {
   "display_name": "Python 3",
   "language": "python",
   "name": "python3"
  },
  "language_info": {
   "codemirror_mode": {
    "name": "ipython",
    "version": 3
   },
   "file_extension": ".py",
   "mimetype": "text/x-python",
   "name": "python",
   "nbconvert_exporter": "python",
   "pygments_lexer": "ipython3",
   "version": "3.5.1"
  }
 },
 "nbformat": 4,
 "nbformat_minor": 0
}
